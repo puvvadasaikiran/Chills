{
  "nbformat": 4,
  "nbformat_minor": 0,
  "metadata": {
    "colab": {
      "name": "BeautifulNumber.ipynb",
      "provenance": []
    },
    "kernelspec": {
      "name": "python3",
      "display_name": "Python 3"
    },
    "language_info": {
      "name": "python"
    }
  },
  "cells": [
    {
      "cell_type": "markdown",
      "metadata": {
        "id": "IENZ4uRfEIkz"
      },
      "source": [
        "#Beautiful Number\n",
        "\n",
        "> You are given a number N. \n",
        "\n",
        "> A number is called beautiful if, for every digit x in the number, there are x occurrences of it in the number.\n",
        "\n",
        "> Given the Number N return the next Beatiful Number\n",
        "\n",
        "```\n",
        "Example:\n",
        "1 is beautiful because 1 has 1 occurrence. \n",
        "3133 is beautiful because 1 has 1 occurrence and 3 has 3 occurrences. \n",
        "224 is not beautiful because 4 does not have 4 occurrences. \n",
        "Find the smallest beautiful number which is greater than N\n",
        "\n",
        "```\n",
        "\n"
      ]
    },
    {
      "cell_type": "code",
      "metadata": {
        "id": "_iLekcCcL1lL"
      },
      "source": [
        "def fact(n):\n",
        "  facty=1\n",
        "  for i in range(1,n+1):\n",
        "    facty*=i\n",
        "\n",
        "  return facty"
      ],
      "execution_count": null,
      "outputs": []
    },
    {
      "cell_type": "code",
      "metadata": {
        "id": "u9xA2z_GL8Ij"
      },
      "source": [
        "def gimmeFactoftup(tup):\n",
        "  facty=1\n",
        "  for i in tup:\n",
        "    facty*= fact(i)\n",
        "  return facty\n"
      ],
      "execution_count": null,
      "outputs": []
    },
    {
      "cell_type": "code",
      "metadata": {
        "id": "PTYhennaMAUC"
      },
      "source": [
        "def gimmiGreaterThan(n,tup):\n",
        "\n",
        "  if(len(tup)==1):\n",
        "    return int(str(tup[0])*tup[0])\n",
        "  \n",
        "  stringy=\"\"\n",
        "  swappy=0\n",
        "  swappyMain=1\n",
        "  for i in tup:\n",
        "    stringy+=str(i)*i\n",
        "\n",
        "  zen= fact(len(stringy))/gimmeFactoftup(tup)\n",
        "  \n",
        "  while True:\n",
        "\n",
        "    for i in range(len(stringy)-1):\n",
        "      if (int(stringy)> n):\n",
        "        break\n",
        "    \n",
        "      tempNumber=''\n",
        "      a=list(stringy)\n",
        "      if a[swappy]!=a[swappy+1]:\n",
        "        a[swappy],a[swappy+1]=a[swappy+1],a[swappy]\n",
        "\n",
        "        for digit in a :\n",
        "          tempNumber+=digit\n",
        "\n",
        "        stringy=tempNumber\n",
        "        #print(stringy)\n",
        "      swappy+=1\n",
        "      swappyMain+=1\n",
        "\n",
        "    if (int(stringy)> n or swappyMain>zen-1):\n",
        "      break\n",
        "    swappy=0\n",
        "    \n",
        "  return int(stringy) if n< int(stringy) else 99999999999999999999999999999999999999999\n"
      ],
      "execution_count": null,
      "outputs": []
    },
    {
      "cell_type": "code",
      "metadata": {
        "id": "0409TlU5MCl2"
      },
      "source": [
        "def beautifulNumber(n):\n",
        "  refDict = {\n",
        "      1:[(1,)],\n",
        "      2:[(2,)],\n",
        "      3:[(1,2),(3,)],\n",
        "      4:[(1,3),(4,)],\n",
        "      5:[(1,4),(2,3),(5,)],\n",
        "      6:[(1,2,3),(1,5),(2,4),(6,)],\n",
        "      7:[(1,2,4),(3,4),(2,5),(1,6),(7,)],\n",
        "      8:[(1,2,5),(1,7),(2,6),(3,5),(4,4),(8,)],\n",
        "      9:[(1,2,6),(1,3,5),(4,5),(3,6),(2,7),(1,8),(9,)],\n",
        "      10:[(1,2,7),(1,3,6),(1,4,5),(5,2,3),(1,9),(2,8),(3,7),(4,6)],\n",
        "      \n",
        "\n",
        "  }\n",
        "  leadingElement = int(str(n)[0])\n",
        "  lengthOfn=len(str(n))\n",
        "  k= lengthOfn if n<(int(str(lengthOfn)*lengthOfn)) else lengthOfn+1\n",
        "  availableTuples=refDict[k]\n",
        "\n",
        "  #print(availableTuples)\n",
        "  eligibleTuples=[]\n",
        "  if k==lengthOfn:\n",
        "    for tup in availableTuples:\n",
        "      for i in tup:\n",
        "        if i>=leadingElement:\n",
        "          eligibleTuples.append(tup)\n",
        "          break\n",
        "  else:\n",
        "    eligibleTuples=availableTuples.copy()\n",
        "\n",
        "  results=[]\n",
        "  for tup in eligibleTuples:\n",
        "    results.append(gimmiGreaterThan(n,tup))\n",
        "  print(f'Available Tuples :  {availableTuples}')\n",
        "  print(f'Eligible Tuples :  {eligibleTuples}')\n",
        "  print(f'Eligible Results :  {(results)}')\n",
        "\n",
        "  return min(results)\n",
        "\n"
      ],
      "execution_count": null,
      "outputs": []
    },
    {
      "cell_type": "code",
      "metadata": {
        "colab": {
          "base_uri": "https://localhost:8080/"
        },
        "id": "bKissRf3MFVW",
        "outputId": "d50789e3-248c-4082-c93e-7b935d170db9"
      },
      "source": [
        "import time\n",
        "start_time = time.time()\n",
        "print(f'Result: {(beautifulNumber(int(901010101)))}')\n",
        "print(\"\\n\\nElapsed Time :  %s seconds \" % (time.time() - start_time))"
      ],
      "execution_count": null,
      "outputs": [
        {
          "output_type": "stream",
          "text": [
            "Available Tuples :  [(1, 2, 6), (1, 3, 5), (4, 5), (3, 6), (2, 7), (1, 8), (9,)]\n",
            "Eligible Tuples :  [(9,)]\n",
            "Eligible Results :  [999999999]\n",
            "Result: 999999999\n",
            "\n",
            "\n",
            "Elapsed Time :  0.0004451274871826172 seconds \n"
          ],
          "name": "stdout"
        }
      ]
    },
    {
      "cell_type": "code",
      "metadata": {
        "id": "LPPNaj6X-T3e"
      },
      "source": [
        "def NormalButWeCheckBeautiful(n):\n",
        "  listy = list(str(n))\n",
        "  flag=True\n",
        "  for i in listy:\n",
        "    if listy.count(i)!=int(i):\n",
        "      return not(flag)\n",
        "  return flag\n"
      ],
      "execution_count": null,
      "outputs": []
    },
    {
      "cell_type": "code",
      "metadata": {
        "id": "f3beY4zz9y2C"
      },
      "source": [
        "def NormalButBeautiful(n):\n",
        "  notFound=True\n",
        "  while (notFound):\n",
        "    if NormalButWeCheckBeautiful(n):\n",
        "      print(n)\n",
        "      notFound=False\n",
        "      break\n",
        "    n+=1\n",
        "  return n"
      ],
      "execution_count": null,
      "outputs": []
    },
    {
      "cell_type": "code",
      "metadata": {
        "colab": {
          "base_uri": "https://localhost:8080/"
        },
        "id": "D-gx0xd3-9zz",
        "outputId": "fc7eb25f-b6ef-4c3f-acab-25953e8b6ac1"
      },
      "source": [
        "import time\n",
        "start_time = time.time()\n",
        "print(f'Result: {(NormalButBeautiful(int(901010101)))}')\n",
        "print(\"\\n\\nElapsed Time :  %s seconds \" % (time.time() - start_time))"
      ],
      "execution_count": null,
      "outputs": [
        {
          "output_type": "stream",
          "text": [
            "999999999\n",
            "Result: None\n",
            "\n",
            "\n",
            "Elapsed Time :  115.67810678482056 seconds \n"
          ],
          "name": "stdout"
        }
      ]
    },
    {
      "cell_type": "code",
      "metadata": {
        "id": "P4l0GC8FdXmm"
      },
      "source": [
        "def minBinAfterKSwaps(n,k):\n",
        "  position=0\n",
        "  zeros=[]\n",
        "  output=''\n",
        "  for i in str(n):\n",
        "    if i == '0':\n",
        "      zeros.append(position)\n",
        "    position+=1\n",
        "\n",
        "  for i in range(len(zeros)):\n",
        "    if zeros[i]<=k:\n",
        "      k-=zeros[i]+i\n",
        "      zeros[i]=0+i\n",
        "    elif zeros[i]>k and k>0:\n",
        "      zeros[i]=zeros[i]-k+i\n",
        "\n",
        "  for i in range(len(str(n))):\n",
        "    if i in zeros:\n",
        "      output+='0'\n",
        "    else:\n",
        "      output+='1'\n",
        "  \n",
        "  return output\n"
      ],
      "execution_count": null,
      "outputs": []
    },
    {
      "cell_type": "code",
      "metadata": {
        "colab": {
          "base_uri": "https://localhost:8080/",
          "height": 36
        },
        "id": "G0zyeX3Hd1jn",
        "outputId": "b791d836-5406-4952-b053-a349559f4323"
      },
      "source": [
        "minBinAfterKSwaps(11110,3)"
      ],
      "execution_count": null,
      "outputs": [
        {
          "output_type": "execute_result",
          "data": {
            "application/vnd.google.colaboratory.intrinsic+json": {
              "type": "string"
            },
            "text/plain": [
              "'10111'"
            ]
          },
          "metadata": {},
          "execution_count": 2
        }
      ]
    },
    {
      "cell_type": "code",
      "metadata": {
        "id": "YLBQHW0S9wkb"
      },
      "source": [
        "def lenOfLongestCommonSubString(string1,string2):\n",
        "  lenOfString1,lenOfString2=len(string1),len(string2)\n",
        "  matrixForReference=[[0 for j in range(lenOfString2+1)] for i in range(lenOfString1+1)]\n",
        "  result=0\n",
        "\n",
        "  for i in range(lenOfString1+1):\n",
        "    for j in range(lenOfString2+1):\n",
        "      if (i==0 or j==0):\n",
        "        matrixForReference[i][j]=0\n",
        "      elif (string1[i-1] == string2[j-1]):\n",
        "        matrixForReference[i][j]=matrixForReference[i-1][j-1]+1\n",
        "        if result<matrixForReference[i][j]:\n",
        "          result=matrixForReference[i][j]\n",
        "      else :\n",
        "        matrixForReference[i][j]=0\n",
        "  \n",
        "  return result"
      ],
      "execution_count": null,
      "outputs": []
    },
    {
      "cell_type": "code",
      "metadata": {
        "colab": {
          "base_uri": "https://localhost:8080/"
        },
        "id": "xYpETMoSGwEE",
        "outputId": "697c817a-11b6-4507-b6f2-499739691261"
      },
      "source": [
        "lenOfLongestCommonSubString(input(\"enter the first string : \"),input(\"enter the second string : \"))"
      ],
      "execution_count": null,
      "outputs": [
        {
          "name": "stdout",
          "output_type": "stream",
          "text": [
            "enter the first string : hello\n",
            "enter the second string : ollo\n"
          ]
        },
        {
          "output_type": "execute_result",
          "data": {
            "text/plain": [
              "3"
            ]
          },
          "metadata": {},
          "execution_count": 35
        }
      ]
    }
  ]
}